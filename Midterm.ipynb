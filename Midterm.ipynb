{
 "cells": [
  {
   "cell_type": "markdown",
   "id": "3dae74035847a0c",
   "metadata": {
    "collapsed": false
   },
   "source": [
    "Midterm Project by Gabriel Jackson (tbp8gx)\n",
    "\n",
    "I focused this project on retail sales of *adventureworks* with the following tables:\n",
    "1. dim_customer for Customers (via SQL)\n",
    "2. dim_product for Products (via JSON & MongoDB)\n",
    "3. dim_date for Dates (via SQL)\n",
    "4. dim_territory for Territories (via local CSV file)\n",
    "5. fact_sale_orders for Sales (via SQL)\n",
    "\n",
    "Project Outline:\n",
    "1. Import libraries, connect to MongoDB and MySQL, and create helper functions to communicate with MongoDB and MySQL (like in the previous projects)\n",
    "2. Extract the dimensional dataframes for the dimensional (dim) tables\n",
    "3. Transform the dimensional dataframes \n",
    "4. Load the dimensional dataframes into the new database\n",
    "5. Extract the fact dataframe via SQL\n",
    "6. Transform the fact dataframe via SQL\n",
    "7. Load the fact dataframe into the new database\n",
    "8. Demonstrate proper functionality in new database\n"
   ]
  },
  {
   "cell_type": "markdown",
   "source": [
    "Step 1 - Import libraries, connect to MongoDB and MySQL, and create helper functions"
   ],
   "metadata": {
    "collapsed": false
   },
   "id": "7d1d899d7733d7c0"
  },
  {
   "cell_type": "code",
   "execution_count": 1,
   "id": "f747bd9b-6990-458d-927b-e7f236ab7e33",
   "metadata": {
    "ExecuteTime": {
     "end_time": "2025-03-14T22:36:24.411691Z",
     "start_time": "2025-03-14T22:36:24.023309Z"
    }
   },
   "outputs": [],
   "source": [
    "# Step 1.1 - Import libraries\n",
    "import os\n",
    "import json\n",
    "import numpy\n",
    "import datetime\n",
    "import certifi\n",
    "import pandas as pd\n",
    "\n",
    "import pymongo\n",
    "import sqlalchemy\n",
    "from sqlalchemy import create_engine, text\n",
    "\n",
    "# Step 1.2 - Connect to MongoDB and MySQL\n",
    "src_db_args = {\n",
    "    \"uid\" : \"root\",\n",
    "    \"pwd\" : \"password\",\n",
    "    \"hostname\" : \"localhost\",\n",
    "    \"dbname\" : \"adventureworks\"\n",
    "}\n",
    "dest_db_args = {\n",
    "    \"uid\" : \"root\",\n",
    "    \"pwd\" : \"password\",\n",
    "    \"hostname\" : \"localhost\",\n",
    "    \"dbname\" : \"midterm_dw\"\n",
    "}\n",
    "mongodb_args = {\n",
    "    \"user_name\" : \"Cluster94547\",\n",
    "    \"password\" : \"cWdKdENBS2pj\",\n",
    "    \"cluster_name\" : \"Cluster94547\",\n",
    "    \"cluster_subnet\" : \"hp0v9\",\n",
    "    \"cluster_location\" : \"atlas\", \n",
    "    \"db_name\" : \"midterm\"\n",
    "}\n",
    "\n",
    "# Step 1.3 - Create helper function to communicate ith MongoDB and MySQL\n",
    "def get_sql_dataframe(sql_query, **args):\n",
    "    '''Create a connection to the MySQL database'''\n",
    "    conn_str = f\"mysql+pymysql://{args['uid']}:{args['pwd']}@{args['hostname']}/{args['dbname']}\"\n",
    "    sqlEngine = create_engine(conn_str, pool_recycle=3600)\n",
    "    connection = sqlEngine.connect()\n",
    "\n",
    "    '''Invoke the pd.read_sql() function to query the database, and fill a Pandas DataFrame.'''\n",
    "    dframe = pd.read_sql(text(sql_query), connection);\n",
    "    connection.close()\n",
    "\n",
    "    return dframe\n",
    "\n",
    "\n",
    "def set_dataframe(df, table_name, pk_column, db_operation, **args):\n",
    "    '''Create a connection to the MySQL database'''\n",
    "    conn_str = f\"mysql+pymysql://{args['uid']}:{args['pwd']}@{args['hostname']}/{args['dbname']}\"\n",
    "    sqlEngine = create_engine(conn_str, pool_recycle=3600)\n",
    "    connection = sqlEngine.connect()\n",
    "\n",
    "    '''Invoke the Pandas DataFrame .to_sql( ) function to either create, or append to, a table'''\n",
    "    if db_operation == \"insert\":\n",
    "        df.to_sql(table_name, con=connection, index=False, if_exists='replace')\n",
    "        connection.execute(text(f\"ALTER TABLE {table_name} ADD PRIMARY KEY ({pk_column});\"))\n",
    "\n",
    "    elif db_operation == \"update\":\n",
    "        df.to_sql(table_name, con=connection, index=False, if_exists='append')\n",
    "\n",
    "    connection.close()\n",
    "\n",
    "\n",
    "def get_mongo_client(**args):\n",
    "    '''Validate proper input'''\n",
    "    if args[\"cluster_location\"] not in ['atlas', 'local']:\n",
    "        raise Exception(\"You must specify either 'atlas' or 'local' for the cluster_location parameter.\")\n",
    "\n",
    "    else:\n",
    "        if args[\"cluster_location\"] == \"atlas\":\n",
    "            connect_str = f\"mongodb+srv://{args['user_name']}:{args['password']}@\"\n",
    "            connect_str += f\"{args['cluster_name']}.{args['cluster_subnet']}.mongodb.net\"\n",
    "            client = pymongo.MongoClient(connect_str, tlsCAFile=certifi.where())\n",
    "\n",
    "        elif args[\"cluster_location\"] == \"local\":\n",
    "            client = pymongo.MongoClient(\"mongodb://localhost:27017/\")\n",
    "\n",
    "    return client\n",
    "\n",
    "\n",
    "def get_mongo_dataframe(mongo_client, db_name, collection, query):\n",
    "    '''Query MongoDB, and fill a python list with documents to create a DataFrame'''\n",
    "    db = mongo_client[db_name]\n",
    "    dframe = pd.DataFrame(list(db[collection].find(query)))\n",
    "    dframe.drop(['_id'], axis=1, inplace=True)\n",
    "    mongo_client.close()\n",
    "\n",
    "    return dframe\n",
    "\n",
    "\n",
    "def set_mongo_collections(mongo_client, db_name, data_directory, json_files):\n",
    "    db = mongo_client[db_name]\n",
    "\n",
    "    for file in json_files:\n",
    "        db.drop_collection(file)\n",
    "        json_file = os.path.join(data_directory, json_files[file])\n",
    "        with open(json_file, 'r') as openfile:\n",
    "            json_object = json.load(openfile)\n",
    "            file = db[file]\n",
    "            result = file.insert_many(json_object)\n",
    "\n",
    "    mongo_client.close()"
   ]
  },
  {
   "cell_type": "code",
   "execution_count": 2,
   "id": "initial_id",
   "metadata": {
    "ExecuteTime": {
     "end_time": "2025-03-14T22:36:28.581533Z",
     "start_time": "2025-03-14T22:36:26.201034Z"
    }
   },
   "outputs": [],
   "source": [
    "# Step 1.4 - Populate MongoDB with dim_products source data (.JSON file in data/products.json file)\n",
    "client = get_mongo_client(**mongodb_args)\n",
    "data_dir = os.path.join(os.getcwd(), 'data')\n",
    "\n",
    "json_files = {\n",
    "    \"products\" : 'products.json'\n",
    "}\n",
    "set_mongo_collections(client, mongodb_args[\"db_name\"], data_dir, json_files)"
   ]
  },
  {
   "cell_type": "markdown",
   "source": [
    "Step 2 - Extract the dataframes for the following tables (according to their source):\n",
    "1. 'customer' -> 'df_dim_customer' (via SQL)\n",
    "2. 'product' -> 'df_dim_product' (via JSON & MongoDB)\n",
    "3. 'dim_date' -> 'df_dim_date' (via SQL)\n",
    "4. 'territory' -> 'df_dim_territory' (via local CSV file)\n",
    "5. 'salesorders' -> 'df_fact_sales_orders' (via SQL)"
   ],
   "metadata": {
    "collapsed": false
   },
   "id": "3cd833a9996c38ad"
  },
  {
   "cell_type": "code",
   "execution_count": 3,
   "id": "4dc06ae3-72db-4619-b19b-74030f2a04ed",
   "metadata": {
    "ExecuteTime": {
     "end_time": "2025-03-14T22:36:31.879665Z",
     "start_time": "2025-03-14T22:36:31.397097Z"
    }
   },
   "outputs": [
    {
     "data": {
      "text/plain": "   CustomerID FirstName LastName EmailAddress Phone  TerritoryID  \\\n0           1      None     None         None  None            1   \n1           2      None     None         None  None            1   \n\n  AccountNumber CustomerType        AddressLine1 AddressLine2     City  \\\n0    AW00000001            S  2251 Elliot Avenue         None  Seattle   \n1    AW00000002            S     7943 Walnut Ave         None   Renton   \n\n  PostalCode StateProvince        Country  \n0      98104    Washington  United States  \n1      98055    Washington  United States  ",
      "text/html": "<div>\n<style scoped>\n    .dataframe tbody tr th:only-of-type {\n        vertical-align: middle;\n    }\n\n    .dataframe tbody tr th {\n        vertical-align: top;\n    }\n\n    .dataframe thead th {\n        text-align: right;\n    }\n</style>\n<table border=\"1\" class=\"dataframe\">\n  <thead>\n    <tr style=\"text-align: right;\">\n      <th></th>\n      <th>CustomerID</th>\n      <th>FirstName</th>\n      <th>LastName</th>\n      <th>EmailAddress</th>\n      <th>Phone</th>\n      <th>TerritoryID</th>\n      <th>AccountNumber</th>\n      <th>CustomerType</th>\n      <th>AddressLine1</th>\n      <th>AddressLine2</th>\n      <th>City</th>\n      <th>PostalCode</th>\n      <th>StateProvince</th>\n      <th>Country</th>\n    </tr>\n  </thead>\n  <tbody>\n    <tr>\n      <th>0</th>\n      <td>1</td>\n      <td>None</td>\n      <td>None</td>\n      <td>None</td>\n      <td>None</td>\n      <td>1</td>\n      <td>AW00000001</td>\n      <td>S</td>\n      <td>2251 Elliot Avenue</td>\n      <td>None</td>\n      <td>Seattle</td>\n      <td>98104</td>\n      <td>Washington</td>\n      <td>United States</td>\n    </tr>\n    <tr>\n      <th>1</th>\n      <td>2</td>\n      <td>None</td>\n      <td>None</td>\n      <td>None</td>\n      <td>None</td>\n      <td>1</td>\n      <td>AW00000002</td>\n      <td>S</td>\n      <td>7943 Walnut Ave</td>\n      <td>None</td>\n      <td>Renton</td>\n      <td>98055</td>\n      <td>Washington</td>\n      <td>United States</td>\n    </tr>\n  </tbody>\n</table>\n</div>"
     },
     "execution_count": 3,
     "metadata": {},
     "output_type": "execute_result"
    }
   ],
   "source": [
    "# Step 2.1 - Extract dimensional customer data\n",
    "sql_customer = \"\"\"\n",
    "    SELECT \n",
    "        c.CustomerID,\n",
    "        contact.FirstName,\n",
    "        contact.LastName,\n",
    "        contact.EmailAddress,\n",
    "        contact.Phone,\n",
    "        c.TerritoryID,\n",
    "        c.AccountNumber,\n",
    "        c.CustomerType,\n",
    "        a.AddressLine1,\n",
    "        a.AddressLine2,\n",
    "        a.City,\n",
    "        a.PostalCode,\n",
    "        sp.Name AS `StateProvince`,\n",
    "        cr.Name AS `Country`\n",
    "    FROM adventureworks.customer AS c\n",
    "    LEFT OUTER JOIN customeraddress AS ca\n",
    "    ON c.CustomerID = ca.CustomerID\n",
    "    LEFT OUTER JOIN address AS a \n",
    "    ON ca.AddressID = a.AddressID\n",
    "    LEFT OUTER JOIN addresstype AS t\n",
    "\tON ca.AddressTypeID = t.AddressTypeID\n",
    "\tLEFT OUTER JOIN stateprovince AS sp\n",
    "\tON sp.StateProvinceID = a.StateProvinceID\n",
    "\tLEFT OUTER JOIN countryregion AS cr\n",
    "\tON sp.CountryRegionCode = cr.CountryRegionCode\n",
    "\tLEFT OUTER JOIN individual AS i\n",
    "\tON c.CustomerID = i.CustomerID\n",
    "\tLEFT OUTER JOIN contact\n",
    "\tON i.ContactID = contact.ContactID;\n",
    "\"\"\"\n",
    "df_dim_customers = get_sql_dataframe(sql_customer, **src_db_args)\n",
    "df_dim_customers.head(2)"
   ]
  },
  {
   "cell_type": "code",
   "execution_count": 4,
   "outputs": [
    {
     "data": {
      "text/plain": "   date_key   full_date\n0  20000101  2000-01-01\n1  20000102  2000-01-02",
      "text/html": "<div>\n<style scoped>\n    .dataframe tbody tr th:only-of-type {\n        vertical-align: middle;\n    }\n\n    .dataframe tbody tr th {\n        vertical-align: top;\n    }\n\n    .dataframe thead th {\n        text-align: right;\n    }\n</style>\n<table border=\"1\" class=\"dataframe\">\n  <thead>\n    <tr style=\"text-align: right;\">\n      <th></th>\n      <th>date_key</th>\n      <th>full_date</th>\n    </tr>\n  </thead>\n  <tbody>\n    <tr>\n      <th>0</th>\n      <td>20000101</td>\n      <td>2000-01-01</td>\n    </tr>\n    <tr>\n      <th>1</th>\n      <td>20000102</td>\n      <td>2000-01-02</td>\n    </tr>\n  </tbody>\n</table>\n</div>"
     },
     "execution_count": 4,
     "metadata": {},
     "output_type": "execute_result"
    }
   ],
   "source": [
    "# Step 2.2 - Extract dimensional dim_date data\n",
    "# NOTE: The 'Lab_02c_Create_Populate_Dim_Date' script was ran on the 'adventureworks' database in order to create the table.\n",
    "# NOTE: If you wish to replicate these steps, then this must be done on the table.\n",
    "\n",
    "sql_dim_date = \"SELECT date_key, full_date FROM adventureworks.dim_date;\"\n",
    "df_dim_dates = get_sql_dataframe(sql_dim_date, **src_db_args)\n",
    "df_dim_dates.full_date = df_dim_dates.full_date.astype('datetime64[ns]').dt.date\n",
    "df_dim_dates.head(2)"
   ],
   "metadata": {
    "collapsed": false,
    "ExecuteTime": {
     "end_time": "2025-03-14T22:36:34.283740Z",
     "start_time": "2025-03-14T22:36:34.238242Z"
    }
   },
   "id": "1c95cc972de40197"
  },
  {
   "cell_type": "code",
   "execution_count": 5,
   "outputs": [
    {
     "data": {
      "text/plain": "   ProductID             Name ProductNumber MakeFlag FinishedGoodsFlag Color  \\\n0          1  Adjustable Race       AR-5381        0                 0  None   \n1          2     Bearing Ball       BA-8327        0                 0  None   \n\n   SafetyStockLevel  ReorderPoint  StandardCost  ListPrice  ...  \\\n0              1000           750           0.0        0.0  ...   \n1              1000           750           0.0        0.0  ...   \n\n  DaysToManufacture ProductLine Class  Style  ProductCategory  \\\n0                 0        None  None   None             None   \n1                 0        None  None   None             None   \n\n  ProductSubcategory ProductModel        SellStartDate SellEndDate  \\\n0               None         None  1998-06-01 00:00:00        None   \n1               None         None  1998-06-01 00:00:00        None   \n\n  DiscontinuedDate  \n0             None  \n1             None  \n\n[2 rows x 24 columns]",
      "text/html": "<div>\n<style scoped>\n    .dataframe tbody tr th:only-of-type {\n        vertical-align: middle;\n    }\n\n    .dataframe tbody tr th {\n        vertical-align: top;\n    }\n\n    .dataframe thead th {\n        text-align: right;\n    }\n</style>\n<table border=\"1\" class=\"dataframe\">\n  <thead>\n    <tr style=\"text-align: right;\">\n      <th></th>\n      <th>ProductID</th>\n      <th>Name</th>\n      <th>ProductNumber</th>\n      <th>MakeFlag</th>\n      <th>FinishedGoodsFlag</th>\n      <th>Color</th>\n      <th>SafetyStockLevel</th>\n      <th>ReorderPoint</th>\n      <th>StandardCost</th>\n      <th>ListPrice</th>\n      <th>...</th>\n      <th>DaysToManufacture</th>\n      <th>ProductLine</th>\n      <th>Class</th>\n      <th>Style</th>\n      <th>ProductCategory</th>\n      <th>ProductSubcategory</th>\n      <th>ProductModel</th>\n      <th>SellStartDate</th>\n      <th>SellEndDate</th>\n      <th>DiscontinuedDate</th>\n    </tr>\n  </thead>\n  <tbody>\n    <tr>\n      <th>0</th>\n      <td>1</td>\n      <td>Adjustable Race</td>\n      <td>AR-5381</td>\n      <td>0</td>\n      <td>0</td>\n      <td>None</td>\n      <td>1000</td>\n      <td>750</td>\n      <td>0.0</td>\n      <td>0.0</td>\n      <td>...</td>\n      <td>0</td>\n      <td>None</td>\n      <td>None</td>\n      <td>None</td>\n      <td>None</td>\n      <td>None</td>\n      <td>None</td>\n      <td>1998-06-01 00:00:00</td>\n      <td>None</td>\n      <td>None</td>\n    </tr>\n    <tr>\n      <th>1</th>\n      <td>2</td>\n      <td>Bearing Ball</td>\n      <td>BA-8327</td>\n      <td>0</td>\n      <td>0</td>\n      <td>None</td>\n      <td>1000</td>\n      <td>750</td>\n      <td>0.0</td>\n      <td>0.0</td>\n      <td>...</td>\n      <td>0</td>\n      <td>None</td>\n      <td>None</td>\n      <td>None</td>\n      <td>None</td>\n      <td>None</td>\n      <td>None</td>\n      <td>1998-06-01 00:00:00</td>\n      <td>None</td>\n      <td>None</td>\n    </tr>\n  </tbody>\n</table>\n<p>2 rows × 24 columns</p>\n</div>"
     },
     "execution_count": 5,
     "metadata": {},
     "output_type": "execute_result"
    }
   ],
   "source": [
    "# Step 2.3 - Extract dimensional product data (.JSON) from MongoDB\n",
    "\n",
    "client = get_mongo_client(**mongodb_args)\n",
    "query = {} \n",
    "collection = \"products\"\n",
    "\n",
    "df_dim_products = get_mongo_dataframe(client, mongodb_args[\"db_name\"], collection, query)\n",
    "df_dim_products.head(2)"
   ],
   "metadata": {
    "collapsed": false,
    "ExecuteTime": {
     "end_time": "2025-03-14T22:36:36.001829Z",
     "start_time": "2025-03-14T22:36:35.470614Z"
    }
   },
   "id": "1ab5b47ee29fba87"
  },
  {
   "cell_type": "code",
   "execution_count": 6,
   "outputs": [
    {
     "data": {
      "text/plain": "   TerritoryID TerritoryName CountryRegionCode          Group\n0            1     Northwest                US  North America\n1            2     Northeast                US  North America",
      "text/html": "<div>\n<style scoped>\n    .dataframe tbody tr th:only-of-type {\n        vertical-align: middle;\n    }\n\n    .dataframe tbody tr th {\n        vertical-align: top;\n    }\n\n    .dataframe thead th {\n        text-align: right;\n    }\n</style>\n<table border=\"1\" class=\"dataframe\">\n  <thead>\n    <tr style=\"text-align: right;\">\n      <th></th>\n      <th>TerritoryID</th>\n      <th>TerritoryName</th>\n      <th>CountryRegionCode</th>\n      <th>Group</th>\n    </tr>\n  </thead>\n  <tbody>\n    <tr>\n      <th>0</th>\n      <td>1</td>\n      <td>Northwest</td>\n      <td>US</td>\n      <td>North America</td>\n    </tr>\n    <tr>\n      <th>1</th>\n      <td>2</td>\n      <td>Northeast</td>\n      <td>US</td>\n      <td>North America</td>\n    </tr>\n  </tbody>\n</table>\n</div>"
     },
     "execution_count": 6,
     "metadata": {},
     "output_type": "execute_result"
    }
   ],
   "source": [
    "# Step 2.4 - Extract dimensional territory data (.CSV) from local files in data/territory.csv file\n",
    "df_dim_territories = pd.read_csv('data/territory.csv')\n",
    "df_dim_territories.head(2)"
   ],
   "metadata": {
    "collapsed": false,
    "ExecuteTime": {
     "end_time": "2025-03-14T22:36:37.892792Z",
     "start_time": "2025-03-14T22:36:37.855571Z"
    }
   },
   "id": "15cd2d4cf07af559"
  },
  {
   "cell_type": "markdown",
   "source": [
    "Step 3 - Transform the dataframes into dimensional dataframes"
   ],
   "metadata": {
    "collapsed": false
   },
   "id": "472d65f880114b32"
  },
  {
   "cell_type": "code",
   "execution_count": 7,
   "outputs": [
    {
     "data": {
      "text/plain": "   Customer_Key  CustomerID FirstName LastName EmailAddress Phone  \\\n0             1           1      None     None         None  None   \n1             2           2      None     None         None  None   \n\n  AccountNumber CustomerType        AddressLine1 AddressLine2     City  \\\n0    AW00000001            S  2251 Elliot Avenue         None  Seattle   \n1    AW00000002            S     7943 Walnut Ave         None   Renton   \n\n  PostalCode StateProvince        Country  \n0      98104    Washington  United States  \n1      98055    Washington  United States  ",
      "text/html": "<div>\n<style scoped>\n    .dataframe tbody tr th:only-of-type {\n        vertical-align: middle;\n    }\n\n    .dataframe tbody tr th {\n        vertical-align: top;\n    }\n\n    .dataframe thead th {\n        text-align: right;\n    }\n</style>\n<table border=\"1\" class=\"dataframe\">\n  <thead>\n    <tr style=\"text-align: right;\">\n      <th></th>\n      <th>Customer_Key</th>\n      <th>CustomerID</th>\n      <th>FirstName</th>\n      <th>LastName</th>\n      <th>EmailAddress</th>\n      <th>Phone</th>\n      <th>AccountNumber</th>\n      <th>CustomerType</th>\n      <th>AddressLine1</th>\n      <th>AddressLine2</th>\n      <th>City</th>\n      <th>PostalCode</th>\n      <th>StateProvince</th>\n      <th>Country</th>\n    </tr>\n  </thead>\n  <tbody>\n    <tr>\n      <th>0</th>\n      <td>1</td>\n      <td>1</td>\n      <td>None</td>\n      <td>None</td>\n      <td>None</td>\n      <td>None</td>\n      <td>AW00000001</td>\n      <td>S</td>\n      <td>2251 Elliot Avenue</td>\n      <td>None</td>\n      <td>Seattle</td>\n      <td>98104</td>\n      <td>Washington</td>\n      <td>United States</td>\n    </tr>\n    <tr>\n      <th>1</th>\n      <td>2</td>\n      <td>2</td>\n      <td>None</td>\n      <td>None</td>\n      <td>None</td>\n      <td>None</td>\n      <td>AW00000002</td>\n      <td>S</td>\n      <td>7943 Walnut Ave</td>\n      <td>None</td>\n      <td>Renton</td>\n      <td>98055</td>\n      <td>Washington</td>\n      <td>United States</td>\n    </tr>\n  </tbody>\n</table>\n</div>"
     },
     "execution_count": 7,
     "metadata": {},
     "output_type": "execute_result"
    }
   ],
   "source": [
    "# Step 3.1 - Transform dimensional customer table \n",
    "\n",
    "# Remove any unwanted data (territory ID should be found in dim_product)\n",
    "df_dim_customers.drop('TerritoryID', axis=1, inplace=True)\n",
    "\n",
    "# Add new primary key to dimension table\n",
    "df_dim_customers.insert(0, \"Customer_Key\", range(1, df_dim_customers.shape[0]+1))\n",
    "\n",
    "df_dim_customers.head(2)"
   ],
   "metadata": {
    "collapsed": false,
    "ExecuteTime": {
     "end_time": "2025-03-14T22:36:40.912984Z",
     "start_time": "2025-03-14T22:36:40.891892Z"
    }
   },
   "id": "709779cd33aa069c"
  },
  {
   "cell_type": "code",
   "execution_count": 8,
   "outputs": [
    {
     "data": {
      "text/plain": "   Product_Key  ProductID             Name ProductNumber MakeFlag  \\\n0            1          1  Adjustable Race       AR-5381    False   \n1            2          2     Bearing Ball       BA-8327    False   \n\n  FinishedGoodsFlag Color  SafetyStockLevel  ReorderPoint  StandardCost  \\\n0             False  None              1000           750           0.0   \n1             False  None              1000           750           0.0   \n\n   ListPrice  Size SizeUnitMeasureCode WeightUnitMeasureCode  Weight  \\\n0        0.0  None                None                  None     NaN   \n1        0.0  None                None                  None     NaN   \n\n   DaysToManufacture ProductCategory ProductSubcategory ProductModel  \n0                  0            None               None         None  \n1                  0            None               None         None  ",
      "text/html": "<div>\n<style scoped>\n    .dataframe tbody tr th:only-of-type {\n        vertical-align: middle;\n    }\n\n    .dataframe tbody tr th {\n        vertical-align: top;\n    }\n\n    .dataframe thead th {\n        text-align: right;\n    }\n</style>\n<table border=\"1\" class=\"dataframe\">\n  <thead>\n    <tr style=\"text-align: right;\">\n      <th></th>\n      <th>Product_Key</th>\n      <th>ProductID</th>\n      <th>Name</th>\n      <th>ProductNumber</th>\n      <th>MakeFlag</th>\n      <th>FinishedGoodsFlag</th>\n      <th>Color</th>\n      <th>SafetyStockLevel</th>\n      <th>ReorderPoint</th>\n      <th>StandardCost</th>\n      <th>ListPrice</th>\n      <th>Size</th>\n      <th>SizeUnitMeasureCode</th>\n      <th>WeightUnitMeasureCode</th>\n      <th>Weight</th>\n      <th>DaysToManufacture</th>\n      <th>ProductCategory</th>\n      <th>ProductSubcategory</th>\n      <th>ProductModel</th>\n    </tr>\n  </thead>\n  <tbody>\n    <tr>\n      <th>0</th>\n      <td>1</td>\n      <td>1</td>\n      <td>Adjustable Race</td>\n      <td>AR-5381</td>\n      <td>False</td>\n      <td>False</td>\n      <td>None</td>\n      <td>1000</td>\n      <td>750</td>\n      <td>0.0</td>\n      <td>0.0</td>\n      <td>None</td>\n      <td>None</td>\n      <td>None</td>\n      <td>NaN</td>\n      <td>0</td>\n      <td>None</td>\n      <td>None</td>\n      <td>None</td>\n    </tr>\n    <tr>\n      <th>1</th>\n      <td>2</td>\n      <td>2</td>\n      <td>Bearing Ball</td>\n      <td>BA-8327</td>\n      <td>False</td>\n      <td>False</td>\n      <td>None</td>\n      <td>1000</td>\n      <td>750</td>\n      <td>0.0</td>\n      <td>0.0</td>\n      <td>None</td>\n      <td>None</td>\n      <td>None</td>\n      <td>NaN</td>\n      <td>0</td>\n      <td>None</td>\n      <td>None</td>\n      <td>None</td>\n    </tr>\n  </tbody>\n</table>\n</div>"
     },
     "execution_count": 8,
     "metadata": {},
     "output_type": "execute_result"
    }
   ],
   "source": [
    "# Step 3.2 - Transform dimensional product table\n",
    "# NOTE: A lot of the initial rows do no contain full data (as they are old), so the head(2) results are not representative of the full dataset.\n",
    "\n",
    "# Remove any unwanted data\n",
    "df_dim_products.drop('Style', axis=1, inplace=True)\n",
    "df_dim_products.drop('ProductLine', axis=1, inplace=True)\n",
    "df_dim_products.drop('Class', axis=1, inplace=True)\n",
    "df_dim_products.drop('SellStartDate', axis=1, inplace=True)\n",
    "df_dim_products.drop('SellEndDate', axis=1, inplace=True)\n",
    "df_dim_products.drop('DiscontinuedDate', axis=1, inplace=True)\n",
    "\n",
    "# Change flags to booleans \n",
    "df_dim_products['MakeFlag'] = df_dim_products.MakeFlag.map({\"1\" :'True', \"0\" :'False'})\n",
    "df_dim_products['FinishedGoodsFlag'] = df_dim_products.FinishedGoodsFlag.map({\"1\" :'True', \"0\" :'False'})\n",
    "\n",
    "# Add new primary key to dimension table\n",
    "df_dim_products.insert(0, \"Product_Key\", range(1, df_dim_products.shape[0]+1))\n",
    "\n",
    "df_dim_products.head(2)"
   ],
   "metadata": {
    "collapsed": false,
    "ExecuteTime": {
     "end_time": "2025-03-14T22:36:42.304819Z",
     "start_time": "2025-03-14T22:36:42.289702Z"
    }
   },
   "id": "3616f971252553f6"
  },
  {
   "cell_type": "code",
   "execution_count": 9,
   "outputs": [
    {
     "data": {
      "text/plain": "   Territory_Key  TerritoryID TerritoryName CountryRegionCode          Group\n0              1            1     Northwest                US  North America\n1              2            2     Northeast                US  North America",
      "text/html": "<div>\n<style scoped>\n    .dataframe tbody tr th:only-of-type {\n        vertical-align: middle;\n    }\n\n    .dataframe tbody tr th {\n        vertical-align: top;\n    }\n\n    .dataframe thead th {\n        text-align: right;\n    }\n</style>\n<table border=\"1\" class=\"dataframe\">\n  <thead>\n    <tr style=\"text-align: right;\">\n      <th></th>\n      <th>Territory_Key</th>\n      <th>TerritoryID</th>\n      <th>TerritoryName</th>\n      <th>CountryRegionCode</th>\n      <th>Group</th>\n    </tr>\n  </thead>\n  <tbody>\n    <tr>\n      <th>0</th>\n      <td>1</td>\n      <td>1</td>\n      <td>Northwest</td>\n      <td>US</td>\n      <td>North America</td>\n    </tr>\n    <tr>\n      <th>1</th>\n      <td>2</td>\n      <td>2</td>\n      <td>Northeast</td>\n      <td>US</td>\n      <td>North America</td>\n    </tr>\n  </tbody>\n</table>\n</div>"
     },
     "execution_count": 9,
     "metadata": {},
     "output_type": "execute_result"
    }
   ],
   "source": [
    "# Step 3.3 - Transform dimensional territory table\n",
    "\n",
    "# Add new primary key to dimension table\n",
    "df_dim_territories.insert(0, \"Territory_Key\", range(1, df_dim_territories.shape[0]+1))\n",
    "\n",
    "df_dim_territories.head(2)"
   ],
   "metadata": {
    "collapsed": false,
    "ExecuteTime": {
     "end_time": "2025-03-14T22:36:45.152088Z",
     "start_time": "2025-03-14T22:36:45.139708Z"
    }
   },
   "id": "e85b140d2f326798"
  },
  {
   "cell_type": "code",
   "execution_count": 10,
   "outputs": [],
   "source": [
    "# Step 4.1 - Load dimensional tables into database\n",
    "# set_dataframe(df_dim_customers, \"dim_products\", \"Product_key\", \"insert\", **dest_db_args)\n",
    "set_dataframe(df_dim_dates, \"dim_date\", \"date_key\", \"insert\", **dest_db_args)\n",
    "set_dataframe(df_dim_customers, \"dim_customers\", \"Customer_key\", \"insert\", **dest_db_args)\n",
    "set_dataframe(df_dim_territories, \"dim_territories\", \"Territory_key\", \"insert\", **dest_db_args)"
   ],
   "metadata": {
    "collapsed": false,
    "ExecuteTime": {
     "end_time": "2025-03-14T22:36:47.220911Z",
     "start_time": "2025-03-14T22:36:46.235871Z"
    }
   },
   "id": "5be3f7508342cee8"
  },
  {
   "cell_type": "code",
   "execution_count": 11,
   "outputs": [
    {
     "data": {
      "text/plain": "   Product_Key  ProductID             Name ProductNumber MakeFlag  \\\n0            1          1  Adjustable Race       AR-5381    False   \n1            2          2     Bearing Ball       BA-8327    False   \n\n  FinishedGoodsFlag Color  SafetyStockLevel  ReorderPoint  StandardCost  \\\n0             False  None              1000           750           0.0   \n1             False  None              1000           750           0.0   \n\n   ListPrice  Size SizeUnitMeasureCode WeightUnitMeasureCode  Weight  \\\n0        0.0  None                None                  None     NaN   \n1        0.0  None                None                  None     NaN   \n\n   DaysToManufacture ProductCategory ProductSubcategory ProductModel  \n0                  0            None               None         None  \n1                  0            None               None         None  ",
      "text/html": "<div>\n<style scoped>\n    .dataframe tbody tr th:only-of-type {\n        vertical-align: middle;\n    }\n\n    .dataframe tbody tr th {\n        vertical-align: top;\n    }\n\n    .dataframe thead th {\n        text-align: right;\n    }\n</style>\n<table border=\"1\" class=\"dataframe\">\n  <thead>\n    <tr style=\"text-align: right;\">\n      <th></th>\n      <th>Product_Key</th>\n      <th>ProductID</th>\n      <th>Name</th>\n      <th>ProductNumber</th>\n      <th>MakeFlag</th>\n      <th>FinishedGoodsFlag</th>\n      <th>Color</th>\n      <th>SafetyStockLevel</th>\n      <th>ReorderPoint</th>\n      <th>StandardCost</th>\n      <th>ListPrice</th>\n      <th>Size</th>\n      <th>SizeUnitMeasureCode</th>\n      <th>WeightUnitMeasureCode</th>\n      <th>Weight</th>\n      <th>DaysToManufacture</th>\n      <th>ProductCategory</th>\n      <th>ProductSubcategory</th>\n      <th>ProductModel</th>\n    </tr>\n  </thead>\n  <tbody>\n    <tr>\n      <th>0</th>\n      <td>1</td>\n      <td>1</td>\n      <td>Adjustable Race</td>\n      <td>AR-5381</td>\n      <td>False</td>\n      <td>False</td>\n      <td>None</td>\n      <td>1000</td>\n      <td>750</td>\n      <td>0.0</td>\n      <td>0.0</td>\n      <td>None</td>\n      <td>None</td>\n      <td>None</td>\n      <td>NaN</td>\n      <td>0</td>\n      <td>None</td>\n      <td>None</td>\n      <td>None</td>\n    </tr>\n    <tr>\n      <th>1</th>\n      <td>2</td>\n      <td>2</td>\n      <td>Bearing Ball</td>\n      <td>BA-8327</td>\n      <td>False</td>\n      <td>False</td>\n      <td>None</td>\n      <td>1000</td>\n      <td>750</td>\n      <td>0.0</td>\n      <td>0.0</td>\n      <td>None</td>\n      <td>None</td>\n      <td>None</td>\n      <td>NaN</td>\n      <td>0</td>\n      <td>None</td>\n      <td>None</td>\n      <td>None</td>\n    </tr>\n  </tbody>\n</table>\n</div>"
     },
     "execution_count": 11,
     "metadata": {},
     "output_type": "execute_result"
    }
   ],
   "source": [
    "# Step 4.2 - Validate loading of dim_products table into database\n",
    "sql_products = \"SELECT * FROM midterm_dw.dim_products;\"\n",
    "df_dim_products = get_sql_dataframe(sql_products, **dest_db_args)\n",
    "df_dim_products.head(2)"
   ],
   "metadata": {
    "collapsed": false,
    "ExecuteTime": {
     "end_time": "2025-03-14T22:36:47.768479Z",
     "start_time": "2025-03-14T22:36:47.738624Z"
    }
   },
   "id": "494a37cbd9445751"
  },
  {
   "cell_type": "code",
   "execution_count": 12,
   "outputs": [
    {
     "data": {
      "text/plain": "   date_key   full_date\n0  20000101  2000-01-01\n1  20000102  2000-01-02",
      "text/html": "<div>\n<style scoped>\n    .dataframe tbody tr th:only-of-type {\n        vertical-align: middle;\n    }\n\n    .dataframe tbody tr th {\n        vertical-align: top;\n    }\n\n    .dataframe thead th {\n        text-align: right;\n    }\n</style>\n<table border=\"1\" class=\"dataframe\">\n  <thead>\n    <tr style=\"text-align: right;\">\n      <th></th>\n      <th>date_key</th>\n      <th>full_date</th>\n    </tr>\n  </thead>\n  <tbody>\n    <tr>\n      <th>0</th>\n      <td>20000101</td>\n      <td>2000-01-01</td>\n    </tr>\n    <tr>\n      <th>1</th>\n      <td>20000102</td>\n      <td>2000-01-02</td>\n    </tr>\n  </tbody>\n</table>\n</div>"
     },
     "execution_count": 12,
     "metadata": {},
     "output_type": "execute_result"
    }
   ],
   "source": [
    "# Step 4.3 - Validate loading of dim_date table into database\n",
    "sql_date = \"SELECT * FROM midterm_dw.dim_date;\"\n",
    "df_dim_dates = get_sql_dataframe(sql_date, **dest_db_args)\n",
    "df_dim_dates.head(2)"
   ],
   "metadata": {
    "collapsed": false,
    "ExecuteTime": {
     "end_time": "2025-03-14T22:36:49.646813Z",
     "start_time": "2025-03-14T22:36:49.597518Z"
    }
   },
   "id": "5e41382c378899f7"
  },
  {
   "cell_type": "code",
   "execution_count": 13,
   "outputs": [
    {
     "data": {
      "text/plain": "   Customer_Key  CustomerID FirstName LastName EmailAddress Phone  \\\n0             1           1      None     None         None  None   \n1             2           2      None     None         None  None   \n\n  AccountNumber CustomerType        AddressLine1 AddressLine2     City  \\\n0    AW00000001            S  2251 Elliot Avenue         None  Seattle   \n1    AW00000002            S     7943 Walnut Ave         None   Renton   \n\n  PostalCode StateProvince        Country  \n0      98104    Washington  United States  \n1      98055    Washington  United States  ",
      "text/html": "<div>\n<style scoped>\n    .dataframe tbody tr th:only-of-type {\n        vertical-align: middle;\n    }\n\n    .dataframe tbody tr th {\n        vertical-align: top;\n    }\n\n    .dataframe thead th {\n        text-align: right;\n    }\n</style>\n<table border=\"1\" class=\"dataframe\">\n  <thead>\n    <tr style=\"text-align: right;\">\n      <th></th>\n      <th>Customer_Key</th>\n      <th>CustomerID</th>\n      <th>FirstName</th>\n      <th>LastName</th>\n      <th>EmailAddress</th>\n      <th>Phone</th>\n      <th>AccountNumber</th>\n      <th>CustomerType</th>\n      <th>AddressLine1</th>\n      <th>AddressLine2</th>\n      <th>City</th>\n      <th>PostalCode</th>\n      <th>StateProvince</th>\n      <th>Country</th>\n    </tr>\n  </thead>\n  <tbody>\n    <tr>\n      <th>0</th>\n      <td>1</td>\n      <td>1</td>\n      <td>None</td>\n      <td>None</td>\n      <td>None</td>\n      <td>None</td>\n      <td>AW00000001</td>\n      <td>S</td>\n      <td>2251 Elliot Avenue</td>\n      <td>None</td>\n      <td>Seattle</td>\n      <td>98104</td>\n      <td>Washington</td>\n      <td>United States</td>\n    </tr>\n    <tr>\n      <th>1</th>\n      <td>2</td>\n      <td>2</td>\n      <td>None</td>\n      <td>None</td>\n      <td>None</td>\n      <td>None</td>\n      <td>AW00000002</td>\n      <td>S</td>\n      <td>7943 Walnut Ave</td>\n      <td>None</td>\n      <td>Renton</td>\n      <td>98055</td>\n      <td>Washington</td>\n      <td>United States</td>\n    </tr>\n  </tbody>\n</table>\n</div>"
     },
     "execution_count": 13,
     "metadata": {},
     "output_type": "execute_result"
    }
   ],
   "source": [
    "# Step 4.4 - Validate loading of dim_customers table into database\n",
    "sql_customers = \"SELECT * FROM midterm_dw.dim_customers;\"\n",
    "df_dim_customers = get_sql_dataframe(sql_customers, **dest_db_args)\n",
    "df_dim_customers.head(2)"
   ],
   "metadata": {
    "collapsed": false,
    "ExecuteTime": {
     "end_time": "2025-03-14T22:36:51.519076Z",
     "start_time": "2025-03-14T22:36:51.148258Z"
    }
   },
   "id": "84cc0eb1e9895af5"
  },
  {
   "cell_type": "code",
   "execution_count": 14,
   "outputs": [
    {
     "data": {
      "text/plain": "   Territory_Key  TerritoryID TerritoryName CountryRegionCode          Group\n0              1            1     Northwest                US  North America\n1              2            2     Northeast                US  North America",
      "text/html": "<div>\n<style scoped>\n    .dataframe tbody tr th:only-of-type {\n        vertical-align: middle;\n    }\n\n    .dataframe tbody tr th {\n        vertical-align: top;\n    }\n\n    .dataframe thead th {\n        text-align: right;\n    }\n</style>\n<table border=\"1\" class=\"dataframe\">\n  <thead>\n    <tr style=\"text-align: right;\">\n      <th></th>\n      <th>Territory_Key</th>\n      <th>TerritoryID</th>\n      <th>TerritoryName</th>\n      <th>CountryRegionCode</th>\n      <th>Group</th>\n    </tr>\n  </thead>\n  <tbody>\n    <tr>\n      <th>0</th>\n      <td>1</td>\n      <td>1</td>\n      <td>Northwest</td>\n      <td>US</td>\n      <td>North America</td>\n    </tr>\n    <tr>\n      <th>1</th>\n      <td>2</td>\n      <td>2</td>\n      <td>Northeast</td>\n      <td>US</td>\n      <td>North America</td>\n    </tr>\n  </tbody>\n</table>\n</div>"
     },
     "execution_count": 14,
     "metadata": {},
     "output_type": "execute_result"
    }
   ],
   "source": [
    "# Step 4.5 - Validate loading of dim_territories table into database\n",
    "sql_territories = \"SELECT * FROM midterm_dw.dim_territories;\"\n",
    "df_dim_territories = get_sql_dataframe(sql_territories, **dest_db_args)\n",
    "df_dim_territories.head(2)"
   ],
   "metadata": {
    "collapsed": false,
    "ExecuteTime": {
     "end_time": "2025-03-14T22:36:52.728061Z",
     "start_time": "2025-03-14T22:36:52.706559Z"
    }
   },
   "id": "a385777ea84e085f"
  },
  {
   "cell_type": "markdown",
   "source": [
    "Step 5 - Extract the fact dataframe via SQL"
   ],
   "metadata": {
    "collapsed": false
   },
   "id": "2ce852f4a1e0108f"
  },
  {
   "cell_type": "code",
   "execution_count": 24,
   "outputs": [
    {
     "data": {
      "text/plain": "   SalesOrderID  TerritoryID  CustomerID  ProductID  OrderDate    DueDate  \\\n0         43659            5         676        711 2001-07-01 2001-07-13   \n1         43659            5         676        712 2001-07-01 2001-07-13   \n\n    ShipDate  Status OnlineOrderFlag SalesOrderNumber  ...  \\\n0 2001-07-08       5         b'\\x00'          SO43659  ...   \n1 2001-07-08       5         b'\\x00'          SO43659  ...   \n\n  Credit Card ExpYear  CreditCardApprovalCode    SubTotal     TaxAmt  \\\n0              2007.0           105041Vi84182  24643.9362  1971.5149   \n1              2007.0           105041Vi84182  24643.9362  1971.5149   \n\n    Freight    TotalDue CarrierTrackingNumber  OrderQty  UnitPrice LineTotal  \n0  616.0984  27231.5495          4911-403C-98         4    20.1865    80.746  \n1  616.0984  27231.5495          4911-403C-98         2     5.1865    10.373  \n\n[2 rows x 28 columns]",
      "text/html": "<div>\n<style scoped>\n    .dataframe tbody tr th:only-of-type {\n        vertical-align: middle;\n    }\n\n    .dataframe tbody tr th {\n        vertical-align: top;\n    }\n\n    .dataframe thead th {\n        text-align: right;\n    }\n</style>\n<table border=\"1\" class=\"dataframe\">\n  <thead>\n    <tr style=\"text-align: right;\">\n      <th></th>\n      <th>SalesOrderID</th>\n      <th>TerritoryID</th>\n      <th>CustomerID</th>\n      <th>ProductID</th>\n      <th>OrderDate</th>\n      <th>DueDate</th>\n      <th>ShipDate</th>\n      <th>Status</th>\n      <th>OnlineOrderFlag</th>\n      <th>SalesOrderNumber</th>\n      <th>...</th>\n      <th>Credit Card ExpYear</th>\n      <th>CreditCardApprovalCode</th>\n      <th>SubTotal</th>\n      <th>TaxAmt</th>\n      <th>Freight</th>\n      <th>TotalDue</th>\n      <th>CarrierTrackingNumber</th>\n      <th>OrderQty</th>\n      <th>UnitPrice</th>\n      <th>LineTotal</th>\n    </tr>\n  </thead>\n  <tbody>\n    <tr>\n      <th>0</th>\n      <td>43659</td>\n      <td>5</td>\n      <td>676</td>\n      <td>711</td>\n      <td>2001-07-01</td>\n      <td>2001-07-13</td>\n      <td>2001-07-08</td>\n      <td>5</td>\n      <td>b'\\x00'</td>\n      <td>SO43659</td>\n      <td>...</td>\n      <td>2007.0</td>\n      <td>105041Vi84182</td>\n      <td>24643.9362</td>\n      <td>1971.5149</td>\n      <td>616.0984</td>\n      <td>27231.5495</td>\n      <td>4911-403C-98</td>\n      <td>4</td>\n      <td>20.1865</td>\n      <td>80.746</td>\n    </tr>\n    <tr>\n      <th>1</th>\n      <td>43659</td>\n      <td>5</td>\n      <td>676</td>\n      <td>712</td>\n      <td>2001-07-01</td>\n      <td>2001-07-13</td>\n      <td>2001-07-08</td>\n      <td>5</td>\n      <td>b'\\x00'</td>\n      <td>SO43659</td>\n      <td>...</td>\n      <td>2007.0</td>\n      <td>105041Vi84182</td>\n      <td>24643.9362</td>\n      <td>1971.5149</td>\n      <td>616.0984</td>\n      <td>27231.5495</td>\n      <td>4911-403C-98</td>\n      <td>2</td>\n      <td>5.1865</td>\n      <td>10.373</td>\n    </tr>\n  </tbody>\n</table>\n<p>2 rows × 28 columns</p>\n</div>"
     },
     "execution_count": 24,
     "metadata": {},
     "output_type": "execute_result"
    }
   ],
   "source": [
    "# Extract sales order from 'salesorderheader', 'salesorderdetail', 'creditcard', and 'shipmethod' tables\n",
    "sql_fact_sales_orders = \"\"\"\n",
    "SELECT soh.SalesOrderID,\n",
    "        soh.TerritoryID,\n",
    "        soh.CustomerID,\n",
    "        sod.ProductID,\n",
    "\t\tsoh.OrderDate,\n",
    "\t\tsoh.DueDate,\n",
    "\t\tsoh.ShipDate,\n",
    "\t\tsoh.Status,\n",
    "\t\tsoh.OnlineOrderFlag,\n",
    "\t\tsoh.SalesOrderNumber,\n",
    "\t\tsoh.PurchaseOrderNumber,\n",
    "\t\tsoh.SalesPersonID,\n",
    "\t\tsm.Name AS ShipMethod,\n",
    "\t\tsm.ShipBase,\n",
    "\t\tsm.ShipRate,\n",
    "\t\tcc.CardType AS `Credit Card Type`,\n",
    "\t\tcc.CardNumber AS `Credit Card Number`,\n",
    "\t\tcc.ExpMonth AS `Credit Card ExpMonth`,\n",
    "\t\tcc.ExpYear AS `Credit Card ExpYear`,\n",
    "\t\tsoh.CreditCardApprovalCode,\n",
    "\t\tsoh.SubTotal,\n",
    "\t\tsoh.TaxAmt,\n",
    "\t\tsoh.Freight,\n",
    "\t\tsoh.TotalDue,\n",
    "\t\tsod.CarrierTrackingNumber,\n",
    "\t\tsod.OrderQty,\n",
    "\t\tsod.UnitPrice,\n",
    "\t\tsod.LineTotal\n",
    "\tFROM salesorderheader AS soh\n",
    "\tLEFT OUTER JOIN salesorderdetail AS sod\n",
    "\tON soh.SalesOrderID = sod.SalesOrderID\n",
    "\tLEFT OUTER JOIN creditcard AS cc\n",
    "\tON soh.CreditCardID = cc.CreditCardID\n",
    "\tLEFT OUTER JOIN shipmethod AS sm\n",
    "\tON soh.ShipMethodID = sm.ShipMethodID\n",
    "\"\"\"\n",
    "\n",
    "df_fact_sales_orders = get_sql_dataframe(sql_fact_sales_orders, **src_db_args)\n",
    "df_fact_sales_orders.head(2)\n"
   ],
   "metadata": {
    "collapsed": false,
    "ExecuteTime": {
     "end_time": "2025-03-14T22:49:37.115360Z",
     "start_time": "2025-03-14T22:49:31.054879Z"
    }
   },
   "id": "639eb81cbbcad315"
  },
  {
   "cell_type": "markdown",
   "source": [
    "Step 6 - Transform the fact dataframe via SQL"
   ],
   "metadata": {
    "collapsed": false
   },
   "id": "f2fa4bacb066f704"
  },
  {
   "cell_type": "code",
   "execution_count": 25,
   "outputs": [
    {
     "data": {
      "text/plain": "   SalesOrderID  TerritoryID  CustomerID  ProductID    DueDate   ShipDate  \\\n0         43659            5         676        711 2001-07-13 2001-07-08   \n1         43659            5         676        712 2001-07-13 2001-07-08   \n\n   Status OnlineOrderFlag SalesOrderNumber PurchaseOrderNumber  ...  \\\n0       5         b'\\x00'          SO43659         PO522145787  ...   \n1       5         b'\\x00'          SO43659         PO522145787  ...   \n\n   CreditCardApprovalCode    SubTotal     TaxAmt   Freight    TotalDue  \\\n0           105041Vi84182  24643.9362  1971.5149  616.0984  27231.5495   \n1           105041Vi84182  24643.9362  1971.5149  616.0984  27231.5495   \n\n  CarrierTrackingNumber  OrderQty  UnitPrice LineTotal  OrderDateKey  \n0          4911-403C-98         4    20.1865    80.746      20010701  \n1          4911-403C-98         2     5.1865    10.373      20010701  \n\n[2 rows x 28 columns]",
      "text/html": "<div>\n<style scoped>\n    .dataframe tbody tr th:only-of-type {\n        vertical-align: middle;\n    }\n\n    .dataframe tbody tr th {\n        vertical-align: top;\n    }\n\n    .dataframe thead th {\n        text-align: right;\n    }\n</style>\n<table border=\"1\" class=\"dataframe\">\n  <thead>\n    <tr style=\"text-align: right;\">\n      <th></th>\n      <th>SalesOrderID</th>\n      <th>TerritoryID</th>\n      <th>CustomerID</th>\n      <th>ProductID</th>\n      <th>DueDate</th>\n      <th>ShipDate</th>\n      <th>Status</th>\n      <th>OnlineOrderFlag</th>\n      <th>SalesOrderNumber</th>\n      <th>PurchaseOrderNumber</th>\n      <th>...</th>\n      <th>CreditCardApprovalCode</th>\n      <th>SubTotal</th>\n      <th>TaxAmt</th>\n      <th>Freight</th>\n      <th>TotalDue</th>\n      <th>CarrierTrackingNumber</th>\n      <th>OrderQty</th>\n      <th>UnitPrice</th>\n      <th>LineTotal</th>\n      <th>OrderDateKey</th>\n    </tr>\n  </thead>\n  <tbody>\n    <tr>\n      <th>0</th>\n      <td>43659</td>\n      <td>5</td>\n      <td>676</td>\n      <td>711</td>\n      <td>2001-07-13</td>\n      <td>2001-07-08</td>\n      <td>5</td>\n      <td>b'\\x00'</td>\n      <td>SO43659</td>\n      <td>PO522145787</td>\n      <td>...</td>\n      <td>105041Vi84182</td>\n      <td>24643.9362</td>\n      <td>1971.5149</td>\n      <td>616.0984</td>\n      <td>27231.5495</td>\n      <td>4911-403C-98</td>\n      <td>4</td>\n      <td>20.1865</td>\n      <td>80.746</td>\n      <td>20010701</td>\n    </tr>\n    <tr>\n      <th>1</th>\n      <td>43659</td>\n      <td>5</td>\n      <td>676</td>\n      <td>712</td>\n      <td>2001-07-13</td>\n      <td>2001-07-08</td>\n      <td>5</td>\n      <td>b'\\x00'</td>\n      <td>SO43659</td>\n      <td>PO522145787</td>\n      <td>...</td>\n      <td>105041Vi84182</td>\n      <td>24643.9362</td>\n      <td>1971.5149</td>\n      <td>616.0984</td>\n      <td>27231.5495</td>\n      <td>4911-403C-98</td>\n      <td>2</td>\n      <td>5.1865</td>\n      <td>10.373</td>\n      <td>20010701</td>\n    </tr>\n  </tbody>\n</table>\n<p>2 rows × 28 columns</p>\n</div>"
     },
     "execution_count": 25,
     "metadata": {},
     "output_type": "execute_result"
    }
   ],
   "source": [
    "# Step 6.1 - Transform the OrderDate in fact orders to serve as a key in the dim_date table\n",
    "df_fact_date = df_dim_dates.rename(columns={\"date_key\" : \"OrderDateKey\", \"full_date\" : \"OrderDate\"})\n",
    "df_fact_sales_orders.OrderDate = df_fact_sales_orders.OrderDate.astype('datetime64[ns]').dt.date\n",
    "df_fact_sales_orders = pd.merge(df_fact_sales_orders, df_fact_date, on='OrderDate', how='left')\n",
    "df_fact_sales_orders.drop(['OrderDate'], axis=1, inplace=True)\n",
    "df_fact_sales_orders.head(2)"
   ],
   "metadata": {
    "collapsed": false,
    "ExecuteTime": {
     "end_time": "2025-03-14T22:49:41.124541Z",
     "start_time": "2025-03-14T22:49:41.014178Z"
    }
   },
   "id": "790fc868d9d26873"
  },
  {
   "cell_type": "code",
   "execution_count": 26,
   "outputs": [
    {
     "data": {
      "text/plain": "   SalesOrderID  TerritoryID  CustomerID  ProductID   ShipDate  Status  \\\n0         43659            5         676        711 2001-07-08       5   \n1         43659            5         676        712 2001-07-08       5   \n\n  OnlineOrderFlag SalesOrderNumber PurchaseOrderNumber  SalesPersonID  ...  \\\n0         b'\\x00'          SO43659         PO522145787          279.0  ...   \n1         b'\\x00'          SO43659         PO522145787          279.0  ...   \n\n     SubTotal     TaxAmt   Freight    TotalDue CarrierTrackingNumber  \\\n0  24643.9362  1971.5149  616.0984  27231.5495          4911-403C-98   \n1  24643.9362  1971.5149  616.0984  27231.5495          4911-403C-98   \n\n   OrderQty  UnitPrice LineTotal  OrderDateKey  DueDateKey  \n0         4    20.1865    80.746      20010701    20010713  \n1         2     5.1865    10.373      20010701    20010713  \n\n[2 rows x 28 columns]",
      "text/html": "<div>\n<style scoped>\n    .dataframe tbody tr th:only-of-type {\n        vertical-align: middle;\n    }\n\n    .dataframe tbody tr th {\n        vertical-align: top;\n    }\n\n    .dataframe thead th {\n        text-align: right;\n    }\n</style>\n<table border=\"1\" class=\"dataframe\">\n  <thead>\n    <tr style=\"text-align: right;\">\n      <th></th>\n      <th>SalesOrderID</th>\n      <th>TerritoryID</th>\n      <th>CustomerID</th>\n      <th>ProductID</th>\n      <th>ShipDate</th>\n      <th>Status</th>\n      <th>OnlineOrderFlag</th>\n      <th>SalesOrderNumber</th>\n      <th>PurchaseOrderNumber</th>\n      <th>SalesPersonID</th>\n      <th>...</th>\n      <th>SubTotal</th>\n      <th>TaxAmt</th>\n      <th>Freight</th>\n      <th>TotalDue</th>\n      <th>CarrierTrackingNumber</th>\n      <th>OrderQty</th>\n      <th>UnitPrice</th>\n      <th>LineTotal</th>\n      <th>OrderDateKey</th>\n      <th>DueDateKey</th>\n    </tr>\n  </thead>\n  <tbody>\n    <tr>\n      <th>0</th>\n      <td>43659</td>\n      <td>5</td>\n      <td>676</td>\n      <td>711</td>\n      <td>2001-07-08</td>\n      <td>5</td>\n      <td>b'\\x00'</td>\n      <td>SO43659</td>\n      <td>PO522145787</td>\n      <td>279.0</td>\n      <td>...</td>\n      <td>24643.9362</td>\n      <td>1971.5149</td>\n      <td>616.0984</td>\n      <td>27231.5495</td>\n      <td>4911-403C-98</td>\n      <td>4</td>\n      <td>20.1865</td>\n      <td>80.746</td>\n      <td>20010701</td>\n      <td>20010713</td>\n    </tr>\n    <tr>\n      <th>1</th>\n      <td>43659</td>\n      <td>5</td>\n      <td>676</td>\n      <td>712</td>\n      <td>2001-07-08</td>\n      <td>5</td>\n      <td>b'\\x00'</td>\n      <td>SO43659</td>\n      <td>PO522145787</td>\n      <td>279.0</td>\n      <td>...</td>\n      <td>24643.9362</td>\n      <td>1971.5149</td>\n      <td>616.0984</td>\n      <td>27231.5495</td>\n      <td>4911-403C-98</td>\n      <td>2</td>\n      <td>5.1865</td>\n      <td>10.373</td>\n      <td>20010701</td>\n      <td>20010713</td>\n    </tr>\n  </tbody>\n</table>\n<p>2 rows × 28 columns</p>\n</div>"
     },
     "execution_count": 26,
     "metadata": {},
     "output_type": "execute_result"
    }
   ],
   "source": [
    "# Step 6.2 - Transform the DueDate in fact orders to serve as a key in the dim_date table\n",
    "df_fact_date = df_dim_dates.rename(columns={\"date_key\" : \"DueDateKey\", \"full_date\" : \"DueDate\"})\n",
    "df_fact_sales_orders.DueDate = df_fact_sales_orders.DueDate.astype('datetime64[ns]').dt.date\n",
    "df_fact_sales_orders = pd.merge(df_fact_sales_orders, df_fact_date, on='DueDate', how='left')\n",
    "df_fact_sales_orders.drop(['DueDate'], axis=1, inplace=True)\n",
    "df_fact_sales_orders.head(2)"
   ],
   "metadata": {
    "collapsed": false,
    "ExecuteTime": {
     "end_time": "2025-03-14T22:49:46.685901Z",
     "start_time": "2025-03-14T22:49:46.588061Z"
    }
   },
   "id": "c29c06c8e92f5f41"
  },
  {
   "cell_type": "code",
   "execution_count": 27,
   "outputs": [
    {
     "data": {
      "text/plain": "   SalesOrderID  TerritoryID  CustomerID  ProductID  Status OnlineOrderFlag  \\\n0         43659            5         676        711       5         b'\\x00'   \n1         43659            5         676        712       5         b'\\x00'   \n\n  SalesOrderNumber PurchaseOrderNumber  SalesPersonID         ShipMethod  ...  \\\n0          SO43659         PO522145787          279.0  CARGO TRANSPORT 5  ...   \n1          SO43659         PO522145787          279.0  CARGO TRANSPORT 5  ...   \n\n      TaxAmt   Freight    TotalDue CarrierTrackingNumber  OrderQty  UnitPrice  \\\n0  1971.5149  616.0984  27231.5495          4911-403C-98         4    20.1865   \n1  1971.5149  616.0984  27231.5495          4911-403C-98         2     5.1865   \n\n  LineTotal  OrderDateKey  DueDateKey  ShipDateKey  \n0    80.746      20010701    20010713     20010708  \n1    10.373      20010701    20010713     20010708  \n\n[2 rows x 28 columns]",
      "text/html": "<div>\n<style scoped>\n    .dataframe tbody tr th:only-of-type {\n        vertical-align: middle;\n    }\n\n    .dataframe tbody tr th {\n        vertical-align: top;\n    }\n\n    .dataframe thead th {\n        text-align: right;\n    }\n</style>\n<table border=\"1\" class=\"dataframe\">\n  <thead>\n    <tr style=\"text-align: right;\">\n      <th></th>\n      <th>SalesOrderID</th>\n      <th>TerritoryID</th>\n      <th>CustomerID</th>\n      <th>ProductID</th>\n      <th>Status</th>\n      <th>OnlineOrderFlag</th>\n      <th>SalesOrderNumber</th>\n      <th>PurchaseOrderNumber</th>\n      <th>SalesPersonID</th>\n      <th>ShipMethod</th>\n      <th>...</th>\n      <th>TaxAmt</th>\n      <th>Freight</th>\n      <th>TotalDue</th>\n      <th>CarrierTrackingNumber</th>\n      <th>OrderQty</th>\n      <th>UnitPrice</th>\n      <th>LineTotal</th>\n      <th>OrderDateKey</th>\n      <th>DueDateKey</th>\n      <th>ShipDateKey</th>\n    </tr>\n  </thead>\n  <tbody>\n    <tr>\n      <th>0</th>\n      <td>43659</td>\n      <td>5</td>\n      <td>676</td>\n      <td>711</td>\n      <td>5</td>\n      <td>b'\\x00'</td>\n      <td>SO43659</td>\n      <td>PO522145787</td>\n      <td>279.0</td>\n      <td>CARGO TRANSPORT 5</td>\n      <td>...</td>\n      <td>1971.5149</td>\n      <td>616.0984</td>\n      <td>27231.5495</td>\n      <td>4911-403C-98</td>\n      <td>4</td>\n      <td>20.1865</td>\n      <td>80.746</td>\n      <td>20010701</td>\n      <td>20010713</td>\n      <td>20010708</td>\n    </tr>\n    <tr>\n      <th>1</th>\n      <td>43659</td>\n      <td>5</td>\n      <td>676</td>\n      <td>712</td>\n      <td>5</td>\n      <td>b'\\x00'</td>\n      <td>SO43659</td>\n      <td>PO522145787</td>\n      <td>279.0</td>\n      <td>CARGO TRANSPORT 5</td>\n      <td>...</td>\n      <td>1971.5149</td>\n      <td>616.0984</td>\n      <td>27231.5495</td>\n      <td>4911-403C-98</td>\n      <td>2</td>\n      <td>5.1865</td>\n      <td>10.373</td>\n      <td>20010701</td>\n      <td>20010713</td>\n      <td>20010708</td>\n    </tr>\n  </tbody>\n</table>\n<p>2 rows × 28 columns</p>\n</div>"
     },
     "execution_count": 27,
     "metadata": {},
     "output_type": "execute_result"
    }
   ],
   "source": [
    "# Step 6.3 - Transform the ShipDate in fact orders to serve as a key in the dim_date table\n",
    "df_fact_date = df_dim_dates.rename(columns={\"date_key\" : \"ShipDateKey\", \"full_date\" : \"ShipDate\"})\n",
    "df_fact_sales_orders.ShipDate = df_fact_sales_orders.ShipDate.astype('datetime64[ns]').dt.date\n",
    "df_fact_sales_orders = pd.merge(df_fact_sales_orders, df_fact_date, on='ShipDate', how='left')\n",
    "df_fact_sales_orders.drop(['ShipDate'], axis=1, inplace=True)\n",
    "df_fact_sales_orders.head(2)"
   ],
   "metadata": {
    "collapsed": false,
    "ExecuteTime": {
     "end_time": "2025-03-14T22:49:52.378060Z",
     "start_time": "2025-03-14T22:49:52.264493Z"
    }
   },
   "id": "964ba3541f96b37c"
  },
  {
   "cell_type": "code",
   "execution_count": 28,
   "outputs": [
    {
     "data": {
      "text/plain": "   SalesOrderID  TerritoryID  CustomerID  Status OnlineOrderFlag  \\\n0         43659            5         676       5         b'\\x00'   \n1         43659            5         676       5         b'\\x00'   \n\n  SalesOrderNumber PurchaseOrderNumber  SalesPersonID         ShipMethod  \\\n0          SO43659         PO522145787          279.0  CARGO TRANSPORT 5   \n1          SO43659         PO522145787          279.0  CARGO TRANSPORT 5   \n\n   ShipBase  ...   Freight    TotalDue CarrierTrackingNumber  OrderQty  \\\n0      8.99  ...  616.0984  27231.5495          4911-403C-98         4   \n1      8.99  ...  616.0984  27231.5495          4911-403C-98         2   \n\n   UnitPrice LineTotal  OrderDateKey  DueDateKey  ShipDateKey  Product_Key  \n0    20.1865    80.746      20010701    20010713     20010708          216  \n1     5.1865    10.373      20010701    20010713     20010708          217  \n\n[2 rows x 28 columns]",
      "text/html": "<div>\n<style scoped>\n    .dataframe tbody tr th:only-of-type {\n        vertical-align: middle;\n    }\n\n    .dataframe tbody tr th {\n        vertical-align: top;\n    }\n\n    .dataframe thead th {\n        text-align: right;\n    }\n</style>\n<table border=\"1\" class=\"dataframe\">\n  <thead>\n    <tr style=\"text-align: right;\">\n      <th></th>\n      <th>SalesOrderID</th>\n      <th>TerritoryID</th>\n      <th>CustomerID</th>\n      <th>Status</th>\n      <th>OnlineOrderFlag</th>\n      <th>SalesOrderNumber</th>\n      <th>PurchaseOrderNumber</th>\n      <th>SalesPersonID</th>\n      <th>ShipMethod</th>\n      <th>ShipBase</th>\n      <th>...</th>\n      <th>Freight</th>\n      <th>TotalDue</th>\n      <th>CarrierTrackingNumber</th>\n      <th>OrderQty</th>\n      <th>UnitPrice</th>\n      <th>LineTotal</th>\n      <th>OrderDateKey</th>\n      <th>DueDateKey</th>\n      <th>ShipDateKey</th>\n      <th>Product_Key</th>\n    </tr>\n  </thead>\n  <tbody>\n    <tr>\n      <th>0</th>\n      <td>43659</td>\n      <td>5</td>\n      <td>676</td>\n      <td>5</td>\n      <td>b'\\x00'</td>\n      <td>SO43659</td>\n      <td>PO522145787</td>\n      <td>279.0</td>\n      <td>CARGO TRANSPORT 5</td>\n      <td>8.99</td>\n      <td>...</td>\n      <td>616.0984</td>\n      <td>27231.5495</td>\n      <td>4911-403C-98</td>\n      <td>4</td>\n      <td>20.1865</td>\n      <td>80.746</td>\n      <td>20010701</td>\n      <td>20010713</td>\n      <td>20010708</td>\n      <td>216</td>\n    </tr>\n    <tr>\n      <th>1</th>\n      <td>43659</td>\n      <td>5</td>\n      <td>676</td>\n      <td>5</td>\n      <td>b'\\x00'</td>\n      <td>SO43659</td>\n      <td>PO522145787</td>\n      <td>279.0</td>\n      <td>CARGO TRANSPORT 5</td>\n      <td>8.99</td>\n      <td>...</td>\n      <td>616.0984</td>\n      <td>27231.5495</td>\n      <td>4911-403C-98</td>\n      <td>2</td>\n      <td>5.1865</td>\n      <td>10.373</td>\n      <td>20010701</td>\n      <td>20010713</td>\n      <td>20010708</td>\n      <td>217</td>\n    </tr>\n  </tbody>\n</table>\n<p>2 rows × 28 columns</p>\n</div>"
     },
     "execution_count": 28,
     "metadata": {},
     "output_type": "execute_result"
    }
   ],
   "source": [
    "# Step 6.4 - Use 'Product_Key' as a foreign key for the facts table to the dim_products table\n",
    "sql_dim_products = \"SELECT Product_Key, ProductID FROM midterm_dw.dim_products;\"\n",
    "df_dim_products = get_sql_dataframe(sql_dim_products, **dest_db_args)\n",
    "\n",
    "df_fact_sales_orders = pd.merge(df_fact_sales_orders, df_dim_products, on=\"ProductID\", how='left')\n",
    "df_fact_sales_orders.drop(['ProductID'], axis=1, inplace=True)\n",
    "df_fact_sales_orders.head(2)"
   ],
   "metadata": {
    "collapsed": false,
    "ExecuteTime": {
     "end_time": "2025-03-14T22:49:55.305497Z",
     "start_time": "2025-03-14T22:49:55.219031Z"
    }
   },
   "id": "2c3dedaf2fdeb3d5"
  },
  {
   "cell_type": "code",
   "execution_count": 29,
   "outputs": [
    {
     "data": {
      "text/plain": "   SalesOrderID  TerritoryID  Status OnlineOrderFlag SalesOrderNumber  \\\n0         43659            5       5         b'\\x00'          SO43659   \n1         43659            5       5         b'\\x00'          SO43659   \n\n  PurchaseOrderNumber  SalesPersonID         ShipMethod  ShipBase  ShipRate  \\\n0         PO522145787          279.0  CARGO TRANSPORT 5      8.99      1.49   \n1         PO522145787          279.0  CARGO TRANSPORT 5      8.99      1.49   \n\n   ...    TotalDue CarrierTrackingNumber  OrderQty  UnitPrice LineTotal  \\\n0  ...  27231.5495          4911-403C-98         4    20.1865    80.746   \n1  ...  27231.5495          4911-403C-98         2     5.1865    10.373   \n\n   OrderDateKey  DueDateKey  ShipDateKey  Product_Key Customer_Key  \n0      20010701    20010713     20010708          216          687  \n1      20010701    20010713     20010708          217          687  \n\n[2 rows x 28 columns]",
      "text/html": "<div>\n<style scoped>\n    .dataframe tbody tr th:only-of-type {\n        vertical-align: middle;\n    }\n\n    .dataframe tbody tr th {\n        vertical-align: top;\n    }\n\n    .dataframe thead th {\n        text-align: right;\n    }\n</style>\n<table border=\"1\" class=\"dataframe\">\n  <thead>\n    <tr style=\"text-align: right;\">\n      <th></th>\n      <th>SalesOrderID</th>\n      <th>TerritoryID</th>\n      <th>Status</th>\n      <th>OnlineOrderFlag</th>\n      <th>SalesOrderNumber</th>\n      <th>PurchaseOrderNumber</th>\n      <th>SalesPersonID</th>\n      <th>ShipMethod</th>\n      <th>ShipBase</th>\n      <th>ShipRate</th>\n      <th>...</th>\n      <th>TotalDue</th>\n      <th>CarrierTrackingNumber</th>\n      <th>OrderQty</th>\n      <th>UnitPrice</th>\n      <th>LineTotal</th>\n      <th>OrderDateKey</th>\n      <th>DueDateKey</th>\n      <th>ShipDateKey</th>\n      <th>Product_Key</th>\n      <th>Customer_Key</th>\n    </tr>\n  </thead>\n  <tbody>\n    <tr>\n      <th>0</th>\n      <td>43659</td>\n      <td>5</td>\n      <td>5</td>\n      <td>b'\\x00'</td>\n      <td>SO43659</td>\n      <td>PO522145787</td>\n      <td>279.0</td>\n      <td>CARGO TRANSPORT 5</td>\n      <td>8.99</td>\n      <td>1.49</td>\n      <td>...</td>\n      <td>27231.5495</td>\n      <td>4911-403C-98</td>\n      <td>4</td>\n      <td>20.1865</td>\n      <td>80.746</td>\n      <td>20010701</td>\n      <td>20010713</td>\n      <td>20010708</td>\n      <td>216</td>\n      <td>687</td>\n    </tr>\n    <tr>\n      <th>1</th>\n      <td>43659</td>\n      <td>5</td>\n      <td>5</td>\n      <td>b'\\x00'</td>\n      <td>SO43659</td>\n      <td>PO522145787</td>\n      <td>279.0</td>\n      <td>CARGO TRANSPORT 5</td>\n      <td>8.99</td>\n      <td>1.49</td>\n      <td>...</td>\n      <td>27231.5495</td>\n      <td>4911-403C-98</td>\n      <td>2</td>\n      <td>5.1865</td>\n      <td>10.373</td>\n      <td>20010701</td>\n      <td>20010713</td>\n      <td>20010708</td>\n      <td>217</td>\n      <td>687</td>\n    </tr>\n  </tbody>\n</table>\n<p>2 rows × 28 columns</p>\n</div>"
     },
     "execution_count": 29,
     "metadata": {},
     "output_type": "execute_result"
    }
   ],
   "source": [
    "# Step 6.5 - Use 'Customer_Key' as a foreign key for the facts table to the dim_customers table\n",
    "sql_dim_customers = \"SELECT Customer_Key, CustomerID FROM midterm_dw.dim_customers;\"\n",
    "df_dim_customers = get_sql_dataframe(sql_dim_customers, **dest_db_args)\n",
    "\n",
    "df_fact_sales_orders = pd.merge(df_fact_sales_orders, df_dim_customers, on=\"CustomerID\", how='left')\n",
    "df_fact_sales_orders.drop(['CustomerID'], axis=1, inplace=True)\n",
    "df_fact_sales_orders.head(2)"
   ],
   "metadata": {
    "collapsed": false,
    "ExecuteTime": {
     "end_time": "2025-03-14T22:49:58.498487Z",
     "start_time": "2025-03-14T22:49:58.269193Z"
    }
   },
   "id": "52988e7b6b8aabcb"
  },
  {
   "cell_type": "code",
   "execution_count": 30,
   "outputs": [
    {
     "data": {
      "text/plain": "   SalesOrderID  Status OnlineOrderFlag SalesOrderNumber PurchaseOrderNumber  \\\n0         43659       5         b'\\x00'          SO43659         PO522145787   \n1         43659       5         b'\\x00'          SO43659         PO522145787   \n\n   SalesPersonID         ShipMethod  ShipBase  ShipRate Credit Card Type  ...  \\\n0          279.0  CARGO TRANSPORT 5      8.99      1.49    ColonialVoice  ...   \n1          279.0  CARGO TRANSPORT 5      8.99      1.49    ColonialVoice  ...   \n\n  CarrierTrackingNumber  OrderQty  UnitPrice LineTotal  OrderDateKey  \\\n0          4911-403C-98         4    20.1865    80.746      20010701   \n1          4911-403C-98         2     5.1865    10.373      20010701   \n\n   DueDateKey  ShipDateKey  Product_Key Customer_Key  Territory_Key  \n0    20010713     20010708          216          687              5  \n1    20010713     20010708          217          687              5  \n\n[2 rows x 28 columns]",
      "text/html": "<div>\n<style scoped>\n    .dataframe tbody tr th:only-of-type {\n        vertical-align: middle;\n    }\n\n    .dataframe tbody tr th {\n        vertical-align: top;\n    }\n\n    .dataframe thead th {\n        text-align: right;\n    }\n</style>\n<table border=\"1\" class=\"dataframe\">\n  <thead>\n    <tr style=\"text-align: right;\">\n      <th></th>\n      <th>SalesOrderID</th>\n      <th>Status</th>\n      <th>OnlineOrderFlag</th>\n      <th>SalesOrderNumber</th>\n      <th>PurchaseOrderNumber</th>\n      <th>SalesPersonID</th>\n      <th>ShipMethod</th>\n      <th>ShipBase</th>\n      <th>ShipRate</th>\n      <th>Credit Card Type</th>\n      <th>...</th>\n      <th>CarrierTrackingNumber</th>\n      <th>OrderQty</th>\n      <th>UnitPrice</th>\n      <th>LineTotal</th>\n      <th>OrderDateKey</th>\n      <th>DueDateKey</th>\n      <th>ShipDateKey</th>\n      <th>Product_Key</th>\n      <th>Customer_Key</th>\n      <th>Territory_Key</th>\n    </tr>\n  </thead>\n  <tbody>\n    <tr>\n      <th>0</th>\n      <td>43659</td>\n      <td>5</td>\n      <td>b'\\x00'</td>\n      <td>SO43659</td>\n      <td>PO522145787</td>\n      <td>279.0</td>\n      <td>CARGO TRANSPORT 5</td>\n      <td>8.99</td>\n      <td>1.49</td>\n      <td>ColonialVoice</td>\n      <td>...</td>\n      <td>4911-403C-98</td>\n      <td>4</td>\n      <td>20.1865</td>\n      <td>80.746</td>\n      <td>20010701</td>\n      <td>20010713</td>\n      <td>20010708</td>\n      <td>216</td>\n      <td>687</td>\n      <td>5</td>\n    </tr>\n    <tr>\n      <th>1</th>\n      <td>43659</td>\n      <td>5</td>\n      <td>b'\\x00'</td>\n      <td>SO43659</td>\n      <td>PO522145787</td>\n      <td>279.0</td>\n      <td>CARGO TRANSPORT 5</td>\n      <td>8.99</td>\n      <td>1.49</td>\n      <td>ColonialVoice</td>\n      <td>...</td>\n      <td>4911-403C-98</td>\n      <td>2</td>\n      <td>5.1865</td>\n      <td>10.373</td>\n      <td>20010701</td>\n      <td>20010713</td>\n      <td>20010708</td>\n      <td>217</td>\n      <td>687</td>\n      <td>5</td>\n    </tr>\n  </tbody>\n</table>\n<p>2 rows × 28 columns</p>\n</div>"
     },
     "execution_count": 30,
     "metadata": {},
     "output_type": "execute_result"
    }
   ],
   "source": [
    "# Step 6.6 - Use 'TerritoryKey' as a foreign key for the facts table to the dim_territories table\n",
    "sql_dim_territories = \"SELECT Territory_Key, TerritoryID FROM midterm_dw.dim_territories;\"\n",
    "df_dim_territories = get_sql_dataframe(sql_dim_territories, **dest_db_args)\n",
    "\n",
    "df_fact_sales_orders = pd.merge(df_fact_sales_orders, df_dim_territories, on=\"TerritoryID\", how='left')\n",
    "df_fact_sales_orders.drop(['TerritoryID'], axis=1, inplace=True)\n",
    "df_fact_sales_orders.head(2)"
   ],
   "metadata": {
    "collapsed": false,
    "ExecuteTime": {
     "end_time": "2025-03-14T22:50:01.044788Z",
     "start_time": "2025-03-14T22:50:00.985425Z"
    }
   },
   "id": "d9199ebf9b766e6d"
  },
  {
   "cell_type": "code",
   "execution_count": 32,
   "outputs": [
    {
     "data": {
      "text/plain": "   FactSalesOrder_Key  Product_Key  Customer_Key  Territory_Key  OrderDateKey  \\\n0                   1          216           687              5      20010701   \n1                   2          217           687              5      20010701   \n\n   ShipDateKey  DueDateKey  SalesOrderID  Status SalesOrderNumber  ...  \\\n0     20010708    20010713         43659       5          SO43659  ...   \n1     20010708    20010713         43659       5          SO43659  ...   \n\n  Credit Card ExpYear CreditCardApprovalCode    SubTotal     TaxAmt   Freight  \\\n0              2007.0          105041Vi84182  24643.9362  1971.5149  616.0984   \n1              2007.0          105041Vi84182  24643.9362  1971.5149  616.0984   \n\n     TotalDue  CarrierTrackingNumber  OrderQty UnitPrice  LineTotal  \n0  27231.5495           4911-403C-98         4   20.1865     80.746  \n1  27231.5495           4911-403C-98         2    5.1865     10.373  \n\n[2 rows x 27 columns]",
      "text/html": "<div>\n<style scoped>\n    .dataframe tbody tr th:only-of-type {\n        vertical-align: middle;\n    }\n\n    .dataframe tbody tr th {\n        vertical-align: top;\n    }\n\n    .dataframe thead th {\n        text-align: right;\n    }\n</style>\n<table border=\"1\" class=\"dataframe\">\n  <thead>\n    <tr style=\"text-align: right;\">\n      <th></th>\n      <th>FactSalesOrder_Key</th>\n      <th>Product_Key</th>\n      <th>Customer_Key</th>\n      <th>Territory_Key</th>\n      <th>OrderDateKey</th>\n      <th>ShipDateKey</th>\n      <th>DueDateKey</th>\n      <th>SalesOrderID</th>\n      <th>Status</th>\n      <th>SalesOrderNumber</th>\n      <th>...</th>\n      <th>Credit Card ExpYear</th>\n      <th>CreditCardApprovalCode</th>\n      <th>SubTotal</th>\n      <th>TaxAmt</th>\n      <th>Freight</th>\n      <th>TotalDue</th>\n      <th>CarrierTrackingNumber</th>\n      <th>OrderQty</th>\n      <th>UnitPrice</th>\n      <th>LineTotal</th>\n    </tr>\n  </thead>\n  <tbody>\n    <tr>\n      <th>0</th>\n      <td>1</td>\n      <td>216</td>\n      <td>687</td>\n      <td>5</td>\n      <td>20010701</td>\n      <td>20010708</td>\n      <td>20010713</td>\n      <td>43659</td>\n      <td>5</td>\n      <td>SO43659</td>\n      <td>...</td>\n      <td>2007.0</td>\n      <td>105041Vi84182</td>\n      <td>24643.9362</td>\n      <td>1971.5149</td>\n      <td>616.0984</td>\n      <td>27231.5495</td>\n      <td>4911-403C-98</td>\n      <td>4</td>\n      <td>20.1865</td>\n      <td>80.746</td>\n    </tr>\n    <tr>\n      <th>1</th>\n      <td>2</td>\n      <td>217</td>\n      <td>687</td>\n      <td>5</td>\n      <td>20010701</td>\n      <td>20010708</td>\n      <td>20010713</td>\n      <td>43659</td>\n      <td>5</td>\n      <td>SO43659</td>\n      <td>...</td>\n      <td>2007.0</td>\n      <td>105041Vi84182</td>\n      <td>24643.9362</td>\n      <td>1971.5149</td>\n      <td>616.0984</td>\n      <td>27231.5495</td>\n      <td>4911-403C-98</td>\n      <td>2</td>\n      <td>5.1865</td>\n      <td>10.373</td>\n    </tr>\n  </tbody>\n</table>\n<p>2 rows × 27 columns</p>\n</div>"
     },
     "execution_count": 32,
     "metadata": {},
     "output_type": "execute_result"
    }
   ],
   "source": [
    "# Step 6.7 - Perform final transformations of df_fact_sales_orders\n",
    "\n",
    "# Drop any unneeded/not well formatted columns\n",
    "df_fact_sales_orders.drop(['OnlineOrderFlag', 'SalesPersonID'], axis=1, inplace=True)\n",
    "\n",
    "# Add new primary key to fact_sales_orders\n",
    "df_fact_sales_orders.insert(0, \"FactSalesOrder_Key\", range(1, df_fact_sales_orders.shape[0]+1))\n",
    "\n",
    "# Rearrange columns in facts table\n",
    "ordered_columns = [\n",
    "    'FactSalesOrder_Key', 'Product_Key', 'Customer_Key', 'Territory_Key', 'OrderDateKey', 'ShipDateKey', 'DueDateKey',\n",
    "    'SalesOrderID', 'Status', 'SalesOrderNumber', 'PurchaseOrderNumber', 'ShipMethod', 'ShipBase', 'ShipRate',\n",
    "    'Credit Card Type', 'Credit Card Number', 'Credit Card ExpMonth', 'Credit Card ExpYear', 'CreditCardApprovalCode',\n",
    "    'SubTotal', 'TaxAmt', 'Freight', 'TotalDue', 'CarrierTrackingNumber', 'OrderQty', 'UnitPrice', 'LineTotal'\n",
    "]\n",
    "df_fact_sales_orders = df_fact_sales_orders[ordered_columns]\n",
    "\n",
    "df_fact_sales_orders.head(2)"
   ],
   "metadata": {
    "collapsed": false,
    "ExecuteTime": {
     "end_time": "2025-03-14T22:52:17.983776Z",
     "start_time": "2025-03-14T22:52:17.951324Z"
    }
   },
   "id": "93d779ec97d02338"
  },
  {
   "cell_type": "markdown",
   "source": [
    "Step 7 - Load the fact dataframe into the new database"
   ],
   "metadata": {
    "collapsed": false
   },
   "id": "f3940a9df672f86e"
  },
  {
   "cell_type": "code",
   "execution_count": 33,
   "outputs": [],
   "source": [
    "# Step 7.1 - Load into database\n",
    "set_dataframe(df_fact_sales_orders, \"fact_sales_orders\", \"FactSalesOrder_Key\", \"insert\", **dest_db_args)"
   ],
   "metadata": {
    "collapsed": false,
    "ExecuteTime": {
     "end_time": "2025-03-14T22:55:33.668085Z",
     "start_time": "2025-03-14T22:55:23.968952Z"
    }
   },
   "id": "3db42292954782cd"
  },
  {
   "cell_type": "code",
   "execution_count": 34,
   "outputs": [
    {
     "data": {
      "text/plain": "   FactSalesOrder_Key  Product_Key  Customer_Key  Territory_Key  OrderDateKey  \\\n0                   1          216           687              5      20010701   \n1                   2          217           687              5      20010701   \n\n   ShipDateKey  DueDateKey  SalesOrderID  Status SalesOrderNumber  ...  \\\n0     20010708    20010713         43659       5          SO43659  ...   \n1     20010708    20010713         43659       5          SO43659  ...   \n\n  Credit Card ExpYear CreditCardApprovalCode    SubTotal     TaxAmt   Freight  \\\n0              2007.0          105041Vi84182  24643.9362  1971.5149  616.0984   \n1              2007.0          105041Vi84182  24643.9362  1971.5149  616.0984   \n\n     TotalDue  CarrierTrackingNumber  OrderQty UnitPrice  LineTotal  \n0  27231.5495           4911-403C-98         4   20.1865     80.746  \n1  27231.5495           4911-403C-98         2    5.1865     10.373  \n\n[2 rows x 27 columns]",
      "text/html": "<div>\n<style scoped>\n    .dataframe tbody tr th:only-of-type {\n        vertical-align: middle;\n    }\n\n    .dataframe tbody tr th {\n        vertical-align: top;\n    }\n\n    .dataframe thead th {\n        text-align: right;\n    }\n</style>\n<table border=\"1\" class=\"dataframe\">\n  <thead>\n    <tr style=\"text-align: right;\">\n      <th></th>\n      <th>FactSalesOrder_Key</th>\n      <th>Product_Key</th>\n      <th>Customer_Key</th>\n      <th>Territory_Key</th>\n      <th>OrderDateKey</th>\n      <th>ShipDateKey</th>\n      <th>DueDateKey</th>\n      <th>SalesOrderID</th>\n      <th>Status</th>\n      <th>SalesOrderNumber</th>\n      <th>...</th>\n      <th>Credit Card ExpYear</th>\n      <th>CreditCardApprovalCode</th>\n      <th>SubTotal</th>\n      <th>TaxAmt</th>\n      <th>Freight</th>\n      <th>TotalDue</th>\n      <th>CarrierTrackingNumber</th>\n      <th>OrderQty</th>\n      <th>UnitPrice</th>\n      <th>LineTotal</th>\n    </tr>\n  </thead>\n  <tbody>\n    <tr>\n      <th>0</th>\n      <td>1</td>\n      <td>216</td>\n      <td>687</td>\n      <td>5</td>\n      <td>20010701</td>\n      <td>20010708</td>\n      <td>20010713</td>\n      <td>43659</td>\n      <td>5</td>\n      <td>SO43659</td>\n      <td>...</td>\n      <td>2007.0</td>\n      <td>105041Vi84182</td>\n      <td>24643.9362</td>\n      <td>1971.5149</td>\n      <td>616.0984</td>\n      <td>27231.5495</td>\n      <td>4911-403C-98</td>\n      <td>4</td>\n      <td>20.1865</td>\n      <td>80.746</td>\n    </tr>\n    <tr>\n      <th>1</th>\n      <td>2</td>\n      <td>217</td>\n      <td>687</td>\n      <td>5</td>\n      <td>20010701</td>\n      <td>20010708</td>\n      <td>20010713</td>\n      <td>43659</td>\n      <td>5</td>\n      <td>SO43659</td>\n      <td>...</td>\n      <td>2007.0</td>\n      <td>105041Vi84182</td>\n      <td>24643.9362</td>\n      <td>1971.5149</td>\n      <td>616.0984</td>\n      <td>27231.5495</td>\n      <td>4911-403C-98</td>\n      <td>2</td>\n      <td>5.1865</td>\n      <td>10.373</td>\n    </tr>\n  </tbody>\n</table>\n<p>2 rows × 27 columns</p>\n</div>"
     },
     "execution_count": 34,
     "metadata": {},
     "output_type": "execute_result"
    }
   ],
   "source": [
    "# Step 7.2 - Ensure database contains the data\n",
    "sql_fact_sales_orders = \"SELECT * FROM midterm_dw.fact_sales_orders;\"\n",
    "df_fact_sales_orders = get_sql_dataframe(sql_fact_sales_orders, **dest_db_args)\n",
    "df_fact_sales_orders.head(2)"
   ],
   "metadata": {
    "collapsed": false,
    "ExecuteTime": {
     "end_time": "2025-03-14T22:58:07.088324Z",
     "start_time": "2025-03-14T22:58:02.327740Z"
    }
   },
   "id": "1ae7ae9d7ed4e125"
  },
  {
   "cell_type": "markdown",
   "source": [
    "Step 8 - Demonstrate proper functionality in new database\n",
    "\n",
    "To demonstrate proper functionality of my data warehouse, I will perform the following two SQL SELECT queries:\n",
    "1. The first query should return the total number of sales for each territory of a product by the name: \"Sport-100 Helmet, Red\".\n",
    "2. The second query should return the first and last name of the top 10 customers that have spent the most in the US territory. If the data warehouse does not contain a first and last name for the customer, do not include this value (as not all customers have first and last name data from the *adventureworks* database)."
   ],
   "metadata": {
    "collapsed": false
   },
   "id": "b7b082a9e8408e39"
  },
  {
   "cell_type": "code",
   "execution_count": 37,
   "outputs": [
    {
     "data": {
      "text/plain": "    TerritoryName  Count(*)                   Name\n0       Northwest       392  Sport-100 Helmet, Red\n1          Canada       458  Sport-100 Helmet, Red\n2       Northeast        78  Sport-100 Helmet, Red\n3       Southwest       624  Sport-100 Helmet, Red\n4       Southeast        93  Sport-100 Helmet, Red\n5         Central        89  Sport-100 Helmet, Red\n6  United Kingdom       336  Sport-100 Helmet, Red\n7       Australia       467  Sport-100 Helmet, Red\n8          France       290  Sport-100 Helmet, Red\n9         Germany       280  Sport-100 Helmet, Red",
      "text/html": "<div>\n<style scoped>\n    .dataframe tbody tr th:only-of-type {\n        vertical-align: middle;\n    }\n\n    .dataframe tbody tr th {\n        vertical-align: top;\n    }\n\n    .dataframe thead th {\n        text-align: right;\n    }\n</style>\n<table border=\"1\" class=\"dataframe\">\n  <thead>\n    <tr style=\"text-align: right;\">\n      <th></th>\n      <th>TerritoryName</th>\n      <th>Count(*)</th>\n      <th>Name</th>\n    </tr>\n  </thead>\n  <tbody>\n    <tr>\n      <th>0</th>\n      <td>Northwest</td>\n      <td>392</td>\n      <td>Sport-100 Helmet, Red</td>\n    </tr>\n    <tr>\n      <th>1</th>\n      <td>Canada</td>\n      <td>458</td>\n      <td>Sport-100 Helmet, Red</td>\n    </tr>\n    <tr>\n      <th>2</th>\n      <td>Northeast</td>\n      <td>78</td>\n      <td>Sport-100 Helmet, Red</td>\n    </tr>\n    <tr>\n      <th>3</th>\n      <td>Southwest</td>\n      <td>624</td>\n      <td>Sport-100 Helmet, Red</td>\n    </tr>\n    <tr>\n      <th>4</th>\n      <td>Southeast</td>\n      <td>93</td>\n      <td>Sport-100 Helmet, Red</td>\n    </tr>\n    <tr>\n      <th>5</th>\n      <td>Central</td>\n      <td>89</td>\n      <td>Sport-100 Helmet, Red</td>\n    </tr>\n    <tr>\n      <th>6</th>\n      <td>United Kingdom</td>\n      <td>336</td>\n      <td>Sport-100 Helmet, Red</td>\n    </tr>\n    <tr>\n      <th>7</th>\n      <td>Australia</td>\n      <td>467</td>\n      <td>Sport-100 Helmet, Red</td>\n    </tr>\n    <tr>\n      <th>8</th>\n      <td>France</td>\n      <td>290</td>\n      <td>Sport-100 Helmet, Red</td>\n    </tr>\n    <tr>\n      <th>9</th>\n      <td>Germany</td>\n      <td>280</td>\n      <td>Sport-100 Helmet, Red</td>\n    </tr>\n  </tbody>\n</table>\n</div>"
     },
     "execution_count": 37,
     "metadata": {},
     "output_type": "execute_result"
    }
   ],
   "source": [
    "# Query 1\n",
    "sql_query_one = \"\"\"\n",
    "    SELECT t.TerritoryName,\n",
    "        Count(*),\n",
    "        p.Name\n",
    "    FROM fact_sales_orders as f\n",
    "    JOIN dim_products AS p\n",
    "    ON f.Product_Key = p.Product_Key\n",
    "    JOIN dim_territories AS t\n",
    "    ON f.Territory_Key = t.Territory_Key\n",
    "    WHERE p.Name = 'Sport-100 Helmet, Red'\n",
    "    GROUP BY t.TerritoryName; \n",
    "\"\"\"\n",
    "df_query_one = get_sql_dataframe(sql_query_one, **dest_db_args)\n",
    "df_query_one.head(20)"
   ],
   "metadata": {
    "collapsed": false,
    "ExecuteTime": {
     "end_time": "2025-03-14T23:17:20.535859Z",
     "start_time": "2025-03-14T23:17:20.410214Z"
    }
   },
   "id": "874fec9e09f04a62"
  },
  {
   "cell_type": "code",
   "execution_count": 38,
   "outputs": [
    {
     "data": {
      "text/plain": "   FirstName   LastName  TotalSpent\n0       José     Miller  22901.9432\n1  Nathaniel     Cooper  22749.4973\n2     Miguel    Sanchez  22718.5573\n3      Jason   Mitchell  22571.5923\n4     Cheryl  Dominguez  21524.6928\n5    Gilbert         Xu  20661.4672\n6      Barry     Subram  20514.4466\n7     Elijah       Ross  20303.1046\n8     Isabel    Jenkins  19978.2346\n9       Noah      Scott  19809.1696",
      "text/html": "<div>\n<style scoped>\n    .dataframe tbody tr th:only-of-type {\n        vertical-align: middle;\n    }\n\n    .dataframe tbody tr th {\n        vertical-align: top;\n    }\n\n    .dataframe thead th {\n        text-align: right;\n    }\n</style>\n<table border=\"1\" class=\"dataframe\">\n  <thead>\n    <tr style=\"text-align: right;\">\n      <th></th>\n      <th>FirstName</th>\n      <th>LastName</th>\n      <th>TotalSpent</th>\n    </tr>\n  </thead>\n  <tbody>\n    <tr>\n      <th>0</th>\n      <td>José</td>\n      <td>Miller</td>\n      <td>22901.9432</td>\n    </tr>\n    <tr>\n      <th>1</th>\n      <td>Nathaniel</td>\n      <td>Cooper</td>\n      <td>22749.4973</td>\n    </tr>\n    <tr>\n      <th>2</th>\n      <td>Miguel</td>\n      <td>Sanchez</td>\n      <td>22718.5573</td>\n    </tr>\n    <tr>\n      <th>3</th>\n      <td>Jason</td>\n      <td>Mitchell</td>\n      <td>22571.5923</td>\n    </tr>\n    <tr>\n      <th>4</th>\n      <td>Cheryl</td>\n      <td>Dominguez</td>\n      <td>21524.6928</td>\n    </tr>\n    <tr>\n      <th>5</th>\n      <td>Gilbert</td>\n      <td>Xu</td>\n      <td>20661.4672</td>\n    </tr>\n    <tr>\n      <th>6</th>\n      <td>Barry</td>\n      <td>Subram</td>\n      <td>20514.4466</td>\n    </tr>\n    <tr>\n      <th>7</th>\n      <td>Elijah</td>\n      <td>Ross</td>\n      <td>20303.1046</td>\n    </tr>\n    <tr>\n      <th>8</th>\n      <td>Isabel</td>\n      <td>Jenkins</td>\n      <td>19978.2346</td>\n    </tr>\n    <tr>\n      <th>9</th>\n      <td>Noah</td>\n      <td>Scott</td>\n      <td>19809.1696</td>\n    </tr>\n  </tbody>\n</table>\n</div>"
     },
     "execution_count": 38,
     "metadata": {},
     "output_type": "execute_result"
    }
   ],
   "source": [
    "sql_query_two = \"\"\"\n",
    "    SELECT \n",
    "        c.FirstName,\n",
    "        c.LastName,\n",
    "        SUM(f.TotalDue) AS TotalSpent\n",
    "    FROM fact_sales_orders as f\n",
    "    JOIN dim_customers AS c\n",
    "    ON f.Customer_Key = c.Customer_Key\n",
    "    JOIN dim_territories AS t\n",
    "    ON f.Territory_Key = t.Territory_Key\n",
    "    WHERE t.CountryRegionCode = 'US' \n",
    "        AND c.FirstName IS NOT NULL \n",
    "        AND c.LastName IS NOT NULL\n",
    "    GROUP BY c.CustomerID, c.FirstName, c.LastName\n",
    "    ORDER BY TotalSpent DESC\n",
    "    LIMIT 10;\n",
    "\"\"\"\n",
    "df_query_two = get_sql_dataframe(sql_query_two, **dest_db_args)\n",
    "df_query_two.head(10)"
   ],
   "metadata": {
    "collapsed": false,
    "ExecuteTime": {
     "end_time": "2025-03-14T23:36:46.125418Z",
     "start_time": "2025-03-14T23:36:46.033257Z"
    }
   },
   "id": "1287dfcbf7dadd25"
  }
 ],
 "metadata": {
  "kernelspec": {
   "display_name": "Python 3 (ipykernel)",
   "language": "python",
   "name": "python3"
  },
  "language_info": {
   "codemirror_mode": {
    "name": "ipython",
    "version": 3
   },
   "file_extension": ".py",
   "mimetype": "text/x-python",
   "name": "python",
   "nbconvert_exporter": "python",
   "pygments_lexer": "ipython3",
   "version": "3.9.6"
  }
 },
 "nbformat": 4,
 "nbformat_minor": 5
}
